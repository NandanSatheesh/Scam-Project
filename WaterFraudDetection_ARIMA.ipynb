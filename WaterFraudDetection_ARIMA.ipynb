{
 "cells": [
  {
   "cell_type": "code",
   "execution_count": 1,
   "metadata": {},
   "outputs": [],
   "source": [
    "from itertools import count"
   ]
  },
  {
   "cell_type": "code",
   "execution_count": 2,
   "metadata": {},
   "outputs": [],
   "source": [
    "from __future__ import division\n",
    "import matplotlib.pyplot as plt\n",
    "from numpy import linspace, loadtxt, ones, convolve\n",
    "import numpy as np\n",
    "import pandas as pd\n",
    "import collections\n",
    "from random import randint\n",
    "from matplotlib import style\n",
    "style.use('fivethirtyeight')\n",
    "%matplotlib inline\n",
    "from sklearn.metrics import mean_squared_error"
   ]
  },
  {
   "cell_type": "code",
   "execution_count": 3,
   "metadata": {},
   "outputs": [
    {
     "data": {
      "text/html": [
       "<div>\n",
       "<style scoped>\n",
       "    .dataframe tbody tr th:only-of-type {\n",
       "        vertical-align: middle;\n",
       "    }\n",
       "\n",
       "    .dataframe tbody tr th {\n",
       "        vertical-align: top;\n",
       "    }\n",
       "\n",
       "    .dataframe thead th {\n",
       "        text-align: right;\n",
       "    }\n",
       "</style>\n",
       "<table border=\"1\" class=\"dataframe\">\n",
       "  <thead>\n",
       "    <tr style=\"text-align: right;\">\n",
       "      <th></th>\n",
       "      <th>LANDUSE_TYPE</th>\n",
       "      <th>USER</th>\n",
       "      <th>PIPE DIAM</th>\n",
       "      <th>VENDOR</th>\n",
       "      <th>2009-01</th>\n",
       "      <th>2009-02</th>\n",
       "      <th>2009-03</th>\n",
       "      <th>2009-04</th>\n",
       "      <th>2009-05</th>\n",
       "      <th>2009-06</th>\n",
       "      <th>...</th>\n",
       "      <th>2015-03</th>\n",
       "      <th>2015-04</th>\n",
       "      <th>2015-05</th>\n",
       "      <th>2015-06</th>\n",
       "      <th>2015-07</th>\n",
       "      <th>2015-08</th>\n",
       "      <th>2015-09</th>\n",
       "      <th>2015-10</th>\n",
       "      <th>2015-11</th>\n",
       "      <th>2015-12</th>\n",
       "    </tr>\n",
       "  </thead>\n",
       "  <tbody>\n",
       "    <tr>\n",
       "      <th>0</th>\n",
       "      <td>H3</td>\n",
       "      <td>MI</td>\n",
       "      <td>0.5</td>\n",
       "      <td>MSDELAUNET</td>\n",
       "      <td>20</td>\n",
       "      <td>20</td>\n",
       "      <td>20</td>\n",
       "      <td>20</td>\n",
       "      <td>20</td>\n",
       "      <td>20</td>\n",
       "      <td>...</td>\n",
       "      <td>2</td>\n",
       "      <td>1</td>\n",
       "      <td>2</td>\n",
       "      <td>1</td>\n",
       "      <td>7</td>\n",
       "      <td>7</td>\n",
       "      <td>42</td>\n",
       "      <td>27</td>\n",
       "      <td>22</td>\n",
       "      <td>21</td>\n",
       "    </tr>\n",
       "    <tr>\n",
       "      <th>1</th>\n",
       "      <td>H3</td>\n",
       "      <td>HI</td>\n",
       "      <td>0.5</td>\n",
       "      <td>NAN</td>\n",
       "      <td>20</td>\n",
       "      <td>20</td>\n",
       "      <td>20</td>\n",
       "      <td>20</td>\n",
       "      <td>20</td>\n",
       "      <td>20</td>\n",
       "      <td>...</td>\n",
       "      <td>27</td>\n",
       "      <td>27</td>\n",
       "      <td>27</td>\n",
       "      <td>28</td>\n",
       "      <td>28</td>\n",
       "      <td>31</td>\n",
       "      <td>27</td>\n",
       "      <td>27</td>\n",
       "      <td>27</td>\n",
       "      <td>24</td>\n",
       "    </tr>\n",
       "    <tr>\n",
       "      <th>2</th>\n",
       "      <td>H3</td>\n",
       "      <td>MI</td>\n",
       "      <td>0.5</td>\n",
       "      <td>NAN</td>\n",
       "      <td>20</td>\n",
       "      <td>20</td>\n",
       "      <td>20</td>\n",
       "      <td>20</td>\n",
       "      <td>20</td>\n",
       "      <td>20</td>\n",
       "      <td>...</td>\n",
       "      <td>19</td>\n",
       "      <td>19</td>\n",
       "      <td>18</td>\n",
       "      <td>18</td>\n",
       "      <td>19</td>\n",
       "      <td>19</td>\n",
       "      <td>19</td>\n",
       "      <td>18</td>\n",
       "      <td>18</td>\n",
       "      <td>24</td>\n",
       "    </tr>\n",
       "    <tr>\n",
       "      <th>3</th>\n",
       "      <td>H3</td>\n",
       "      <td>HI</td>\n",
       "      <td>0.5</td>\n",
       "      <td>NAN</td>\n",
       "      <td>20</td>\n",
       "      <td>20</td>\n",
       "      <td>20</td>\n",
       "      <td>20</td>\n",
       "      <td>20</td>\n",
       "      <td>20</td>\n",
       "      <td>...</td>\n",
       "      <td>17</td>\n",
       "      <td>17</td>\n",
       "      <td>17</td>\n",
       "      <td>17</td>\n",
       "      <td>17</td>\n",
       "      <td>17</td>\n",
       "      <td>17</td>\n",
       "      <td>17</td>\n",
       "      <td>17</td>\n",
       "      <td>24</td>\n",
       "    </tr>\n",
       "    <tr>\n",
       "      <th>4</th>\n",
       "      <td>H3</td>\n",
       "      <td>HI</td>\n",
       "      <td>0.5</td>\n",
       "      <td>CICASA MMD-15 S</td>\n",
       "      <td>30</td>\n",
       "      <td>10</td>\n",
       "      <td>30</td>\n",
       "      <td>20</td>\n",
       "      <td>30</td>\n",
       "      <td>30</td>\n",
       "      <td>...</td>\n",
       "      <td>14</td>\n",
       "      <td>15</td>\n",
       "      <td>26</td>\n",
       "      <td>27</td>\n",
       "      <td>29</td>\n",
       "      <td>22</td>\n",
       "      <td>27</td>\n",
       "      <td>26</td>\n",
       "      <td>33</td>\n",
       "      <td>32</td>\n",
       "    </tr>\n",
       "  </tbody>\n",
       "</table>\n",
       "<p>5 rows × 88 columns</p>\n",
       "</div>"
      ],
      "text/plain": [
       "  LANDUSE_TYPE USER  PIPE DIAM           VENDOR  2009-01  2009-02  2009-03  \\\n",
       "0           H3   MI        0.5       MSDELAUNET       20       20       20   \n",
       "1           H3   HI        0.5              NAN       20       20       20   \n",
       "2           H3   MI        0.5              NAN       20       20       20   \n",
       "3           H3   HI        0.5              NAN       20       20       20   \n",
       "4           H3   HI        0.5  CICASA MMD-15 S       30       10       30   \n",
       "\n",
       "   2009-04  2009-05  2009-06   ...     2015-03  2015-04  2015-05  2015-06  \\\n",
       "0       20       20       20   ...           2        1        2        1   \n",
       "1       20       20       20   ...          27       27       27       28   \n",
       "2       20       20       20   ...          19       19       18       18   \n",
       "3       20       20       20   ...          17       17       17       17   \n",
       "4       20       30       30   ...          14       15       26       27   \n",
       "\n",
       "   2015-07  2015-08  2015-09  2015-10  2015-11  2015-12  \n",
       "0        7        7       42       27       22       21  \n",
       "1       28       31       27       27       27       24  \n",
       "2       19       19       19       18       18       24  \n",
       "3       17       17       17       17       17       24  \n",
       "4       29       22       27       26       33       32  \n",
       "\n",
       "[5 rows x 88 columns]"
      ]
     },
     "execution_count": 3,
     "metadata": {},
     "output_type": "execute_result"
    }
   ],
   "source": [
    "wdata = pd.read_csv(\"water_supply.csv\")\n",
    "wdata.head()"
   ]
  },
  {
   "cell_type": "code",
   "execution_count": 4,
   "metadata": {},
   "outputs": [
    {
     "data": {
      "text/plain": [
       "(2017, 88)"
      ]
     },
     "execution_count": 4,
     "metadata": {},
     "output_type": "execute_result"
    }
   ],
   "source": [
    "wdata.shape"
   ]
  },
  {
   "cell_type": "code",
   "execution_count": 4,
   "metadata": {},
   "outputs": [],
   "source": [
    "data = pd.read_csv(\"testdata.csv\")"
   ]
  },
  {
   "cell_type": "code",
   "execution_count": 5,
   "metadata": {},
   "outputs": [
    {
     "data": {
      "text/html": [
       "<div>\n",
       "<style scoped>\n",
       "    .dataframe tbody tr th:only-of-type {\n",
       "        vertical-align: middle;\n",
       "    }\n",
       "\n",
       "    .dataframe tbody tr th {\n",
       "        vertical-align: top;\n",
       "    }\n",
       "\n",
       "    .dataframe thead th {\n",
       "        text-align: right;\n",
       "    }\n",
       "</style>\n",
       "<table border=\"1\" class=\"dataframe\">\n",
       "  <thead>\n",
       "    <tr style=\"text-align: right;\">\n",
       "      <th></th>\n",
       "      <th>Time</th>\n",
       "      <th>Water</th>\n",
       "    </tr>\n",
       "  </thead>\n",
       "  <tbody>\n",
       "    <tr>\n",
       "      <th>0</th>\n",
       "      <td>2009-01</td>\n",
       "      <td>16</td>\n",
       "    </tr>\n",
       "    <tr>\n",
       "      <th>1</th>\n",
       "      <td>2009-02</td>\n",
       "      <td>15</td>\n",
       "    </tr>\n",
       "    <tr>\n",
       "      <th>2</th>\n",
       "      <td>2009-03</td>\n",
       "      <td>15</td>\n",
       "    </tr>\n",
       "    <tr>\n",
       "      <th>3</th>\n",
       "      <td>2009-04</td>\n",
       "      <td>14</td>\n",
       "    </tr>\n",
       "    <tr>\n",
       "      <th>4</th>\n",
       "      <td>2009-05</td>\n",
       "      <td>54</td>\n",
       "    </tr>\n",
       "  </tbody>\n",
       "</table>\n",
       "</div>"
      ],
      "text/plain": [
       "      Time  Water\n",
       "0  2009-01     16\n",
       "1  2009-02     15\n",
       "2  2009-03     15\n",
       "3  2009-04     14\n",
       "4  2009-05     54"
      ]
     },
     "execution_count": 5,
     "metadata": {},
     "output_type": "execute_result"
    }
   ],
   "source": [
    "data.head()"
   ]
  },
  {
   "cell_type": "code",
   "execution_count": 6,
   "metadata": {},
   "outputs": [
    {
     "data": {
      "text/html": [
       "<div>\n",
       "<style scoped>\n",
       "    .dataframe tbody tr th:only-of-type {\n",
       "        vertical-align: middle;\n",
       "    }\n",
       "\n",
       "    .dataframe tbody tr th {\n",
       "        vertical-align: top;\n",
       "    }\n",
       "\n",
       "    .dataframe thead th {\n",
       "        text-align: right;\n",
       "    }\n",
       "</style>\n",
       "<table border=\"1\" class=\"dataframe\">\n",
       "  <thead>\n",
       "    <tr style=\"text-align: right;\">\n",
       "      <th></th>\n",
       "      <th>Time</th>\n",
       "      <th>Water</th>\n",
       "    </tr>\n",
       "  </thead>\n",
       "  <tbody>\n",
       "    <tr>\n",
       "      <th>79</th>\n",
       "      <td>2015-08</td>\n",
       "      <td>19</td>\n",
       "    </tr>\n",
       "    <tr>\n",
       "      <th>80</th>\n",
       "      <td>2015-09</td>\n",
       "      <td>16</td>\n",
       "    </tr>\n",
       "    <tr>\n",
       "      <th>81</th>\n",
       "      <td>2015-10</td>\n",
       "      <td>18</td>\n",
       "    </tr>\n",
       "    <tr>\n",
       "      <th>82</th>\n",
       "      <td>2015-11</td>\n",
       "      <td>16</td>\n",
       "    </tr>\n",
       "    <tr>\n",
       "      <th>83</th>\n",
       "      <td>2015-12</td>\n",
       "      <td>14</td>\n",
       "    </tr>\n",
       "  </tbody>\n",
       "</table>\n",
       "</div>"
      ],
      "text/plain": [
       "       Time  Water\n",
       "79  2015-08     19\n",
       "80  2015-09     16\n",
       "81  2015-10     18\n",
       "82  2015-11     16\n",
       "83  2015-12     14"
      ]
     },
     "execution_count": 6,
     "metadata": {},
     "output_type": "execute_result"
    }
   ],
   "source": [
    "data_as_frame = pd.DataFrame(data, columns=['Time', 'Water'])\n",
    "data_as_frame.tail()"
   ]
  },
  {
   "cell_type": "code",
   "execution_count": 7,
   "metadata": {},
   "outputs": [],
   "source": [
    "# 4. Lets play with the functions\n",
    "x = data_as_frame['Time']\n",
    "Y = data_as_frame['Water']"
   ]
  },
  {
   "cell_type": "code",
   "execution_count": 8,
   "metadata": {},
   "outputs": [],
   "source": [
    "#Y"
   ]
  },
  {
   "cell_type": "code",
   "execution_count": 9,
   "metadata": {},
   "outputs": [],
   "source": [
    "window_size= 10\n",
    "window = np.ones(int(window_size))/float(window_size)"
   ]
  },
  {
   "cell_type": "code",
   "execution_count": 10,
   "metadata": {},
   "outputs": [
    {
     "data": {
      "text/plain": [
       "array([0.1, 0.1, 0.1, 0.1, 0.1, 0.1, 0.1, 0.1, 0.1, 0.1])"
      ]
     },
     "execution_count": 10,
     "metadata": {},
     "output_type": "execute_result"
    }
   ],
   "source": [
    "window"
   ]
  },
  {
   "cell_type": "code",
   "execution_count": 14,
   "metadata": {},
   "outputs": [
    {
     "data": {
      "text/plain": [
       "(10,)"
      ]
     },
     "execution_count": 14,
     "metadata": {},
     "output_type": "execute_result"
    }
   ],
   "source": [
    "window.shape"
   ]
  },
  {
   "cell_type": "code",
   "execution_count": 12,
   "metadata": {},
   "outputs": [
    {
     "data": {
      "text/plain": [
       "array([ 1.6,  3.1,  4.6,  6. , 11.4, 13.9, 16.1, 18.4, 19.7, 21.5, 21.3,\n",
       "       21. , 21.3, 21.3, 17.3, 16.3, 17. , 16.1, 16.5, 16.3, 17.2, 17.9,\n",
       "       18.3, 18.2, 18.9, 19.1, 18.1, 18.7, 19.1, 19.1, 18.3, 17.8, 17.2,\n",
       "       17.6, 16.9, 16.7, 17. , 17. , 16.6, 17. , 17.5, 18.3, 18.6, 19. ,\n",
       "       19.7, 19.6, 19.5, 18.9, 19.2, 18.9, 18.6, 18. , 18.2, 18.1, 17.8,\n",
       "       18.2, 18. , 18.2, 17.8, 17.4, 17.9, 18.1, 17.6, 17.3, 17.9, 18.2,\n",
       "       18. , 18.3, 18.5, 18.8, 19.1, 18.9, 18.8, 18.3, 17.3, 17. , 16.9,\n",
       "       16.7, 16.9, 17.2, 16.3, 16.5, 16.6, 16.8, 15.4, 13.6, 12. , 10.3,\n",
       "        8.3,  6.4,  4.8,  3. ,  1.4])"
      ]
     },
     "execution_count": 12,
     "metadata": {},
     "output_type": "execute_result"
    }
   ],
   "source": [
    "np.convolve(Y, window)"
   ]
  },
  {
   "cell_type": "code",
   "execution_count": 15,
   "metadata": {},
   "outputs": [
    {
     "name": "stdout",
     "output_type": "stream",
     "text": [
      "[11.4 13.9 16.1 18.4 19.7 21.5 21.3 21.  21.3 21.3 17.3 16.3 17.  16.1\n",
      " 16.5 16.3 17.2 17.9 18.3 18.2 18.9 19.1 18.1 18.7 19.1 19.1 18.3 17.8\n",
      " 17.2 17.6 16.9 16.7 17.  17.  16.6 17.  17.5 18.3 18.6 19.  19.7 19.6\n",
      " 19.5 18.9 19.2 18.9 18.6 18.  18.2 18.1 17.8 18.2 18.  18.2 17.8 17.4\n",
      " 17.9 18.1 17.6 17.3 17.9 18.2 18.  18.3 18.5 18.8 19.1 18.9 18.8 18.3\n",
      " 17.3 17.  16.9 16.7 16.9 17.2 16.3 16.5 16.6 16.8 15.4 13.6 12.  10.3]\n"
     ]
    }
   ],
   "source": [
    "moving_average = np.convolve(Y, window, 'same')\n",
    "print(moving_average)"
   ]
  },
  {
   "cell_type": "code",
   "execution_count": 16,
   "metadata": {},
   "outputs": [
    {
     "data": {
      "text/plain": [
       "numpy.ndarray"
      ]
     },
     "execution_count": 16,
     "metadata": {},
     "output_type": "execute_result"
    }
   ],
   "source": [
    "type(moving_average)"
   ]
  },
  {
   "cell_type": "code",
   "execution_count": 17,
   "metadata": {},
   "outputs": [
    {
     "name": "stdout",
     "output_type": "stream",
     "text": [
      "[11.4, 13.9, 16.1, 18.4, 19.700000000000003, 21.500000000000004, 21.3, 21.0, 21.3, 21.3, 17.300000000000004, 16.3, 17.0, 16.1, 16.5, 16.300000000000004, 17.2, 17.9, 18.3, 18.200000000000003, 18.900000000000006, 19.100000000000005, 18.1, 18.7, 19.1, 19.1, 18.3, 17.799999999999997, 17.2, 17.6, 16.9, 16.700000000000003, 17.0, 17.000000000000004, 16.599999999999998, 17.0, 17.5, 18.3, 18.599999999999998, 19.0, 19.700000000000003, 19.6, 19.5, 18.9, 19.2, 18.900000000000002, 18.6, 18.0, 18.200000000000003, 18.099999999999998, 17.8, 18.2, 18.0, 18.200000000000003, 17.800000000000004, 17.400000000000002, 17.900000000000002, 18.1, 17.6, 17.3, 17.900000000000006, 18.200000000000003, 18.0, 18.299999999999997, 18.5, 18.8, 19.1, 18.900000000000002, 18.8, 18.3, 17.299999999999997, 17.0, 16.900000000000002, 16.7, 16.9, 17.2, 16.3, 16.5, 16.6, 16.8, 15.4, 13.600000000000001, 12.0, 10.3]\n"
     ]
    }
   ],
   "source": [
    "avg = moving_average.tolist()\n",
    "print(avg)"
   ]
  },
  {
   "cell_type": "code",
   "execution_count": 18,
   "metadata": {},
   "outputs": [
    {
     "name": "stdout",
     "output_type": "stream",
     "text": [
      "<class 'pandas.core.series.Series'>\n"
     ]
    }
   ],
   "source": [
    "#residual\n",
    "residual = Y - avg\n",
    "print(type(residual))"
   ]
  },
  {
   "cell_type": "code",
   "execution_count": 19,
   "metadata": {},
   "outputs": [
    {
     "data": {
      "text/plain": [
       "0     4.6\n",
       "1     1.1\n",
       "2    -1.1\n",
       "3    -4.4\n",
       "4    34.3\n",
       "Name: Water, dtype: float64"
      ]
     },
     "execution_count": 19,
     "metadata": {},
     "output_type": "execute_result"
    }
   ],
   "source": [
    "residual.head()"
   ]
  },
  {
   "cell_type": "code",
   "execution_count": 20,
   "metadata": {},
   "outputs": [
    {
     "data": {
      "text/plain": [
       "4.859363404645993"
      ]
     },
     "execution_count": 20,
     "metadata": {},
     "output_type": "execute_result"
    }
   ],
   "source": [
    "# Calculate the variation in the distribution of the residual\n",
    "std = np.std(residual)\n",
    "std"
   ]
  },
  {
   "cell_type": "code",
   "execution_count": 21,
   "metadata": {},
   "outputs": [],
   "source": [
    "import itertools\n",
    "sigma = 1"
   ]
  },
  {
   "cell_type": "code",
   "execution_count": 22,
   "metadata": {},
   "outputs": [],
   "source": [
    "#Calculate the variation in the distribution of the residual\n",
    "#print(type(residual))\n",
    "testing_std = residual.rolling(window_size).std()\n",
    "testing_std_as_df = pd.DataFrame(testing_std)\n",
    "rolling_std = testing_std_as_df.replace(np.nan,testing_std_as_df.iloc[window_size - 1]).round(3).iloc[:,0].tolist()"
   ]
  },
  {
   "cell_type": "code",
   "execution_count": 23,
   "metadata": {},
   "outputs": [
    {
     "data": {
      "text/plain": [
       "[11.696,\n",
       " 11.696,\n",
       " 11.696,\n",
       " 11.696,\n",
       " 11.696,\n",
       " 11.696,\n",
       " 11.696,\n",
       " 11.696,\n",
       " 11.696,\n",
       " 11.696,\n",
       " 11.836,\n",
       " 12.009,\n",
       " 11.975,\n",
       " 11.865,\n",
       " 3.496,\n",
       " 3.004,\n",
       " 5.324,\n",
       " 5.278,\n",
       " 4.729,\n",
       " 4.68,\n",
       " 4.826,\n",
       " 4.594,\n",
       " 4.729,\n",
       " 5.084,\n",
       " 5.007,\n",
       " 5.049,\n",
       " 3.207,\n",
       " 3.059,\n",
       " 3.213,\n",
       " 3.159,\n",
       " 3.01,\n",
       " 3.14,\n",
       " 2.802,\n",
       " 2.165,\n",
       " 2.178,\n",
       " 2.17,\n",
       " 2.679,\n",
       " 2.635,\n",
       " 2.254,\n",
       " 2.291,\n",
       " 2.243,\n",
       " 2.201,\n",
       " 2.174,\n",
       " 2.24,\n",
       " 1.973,\n",
       " 2.578,\n",
       " 2.304,\n",
       " 2.645,\n",
       " 2.65,\n",
       " 2.666,\n",
       " 2.676,\n",
       " 2.597,\n",
       " 2.828,\n",
       " 2.803,\n",
       " 2.719,\n",
       " 2.212,\n",
       " 2.102,\n",
       " 1.753,\n",
       " 1.744,\n",
       " 2.184,\n",
       " 2.602,\n",
       " 2.483,\n",
       " 2.371,\n",
       " 2.275,\n",
       " 2.978,\n",
       " 3.057,\n",
       " 3.112,\n",
       " 3.038,\n",
       " 3.001,\n",
       " 2.728,\n",
       " 3.429,\n",
       " 3.461,\n",
       " 3.453,\n",
       " 3.811,\n",
       " 3.437,\n",
       " 3.339,\n",
       " 3.304,\n",
       " 3.315,\n",
       " 3.531,\n",
       " 3.501,\n",
       " 2.398,\n",
       " 2.804,\n",
       " 2.929,\n",
       " 2.317]"
      ]
     },
     "execution_count": 23,
     "metadata": {},
     "output_type": "execute_result"
    }
   ],
   "source": [
    "rolling_std"
   ]
  },
  {
   "cell_type": "code",
   "execution_count": 24,
   "metadata": {},
   "outputs": [],
   "source": [
    "avg_list = avg\n",
    "text_xlabel=\"Time\"\n",
    "text_ylabel=\"Consumed Water\"\n",
    "applying_rolling_std=False"
   ]
  },
  {
   "cell_type": "code",
   "execution_count": 25,
   "metadata": {
    "scrolled": false
   },
   "outputs": [
    {
     "data": {
      "text/plain": [
       "Text(0,0.5,'Consumed Water')"
      ]
     },
     "execution_count": 25,
     "metadata": {},
     "output_type": "execute_result"
    },
    {
     "data": {
      "image/png": "[encoded data removed]",
      "text/plain": [
       "<Figure size 1080x576 with 1 Axes>"
      ]
     },
     "metadata": {},
     "output_type": "display_data"
    }
   ],
   "source": [
    "plt.figure(figsize=(15, 8))\n",
    "plt.plot(x, Y, \"k.\")\n",
    "plt.plot(x, moving_average, color='green')\n",
    "plt.xlabel(text_xlabel)\n",
    "plt.ylabel(text_ylabel)"
   ]
  },
  {
   "cell_type": "code",
   "execution_count": 26,
   "metadata": {
    "scrolled": false
   },
   "outputs": [
    {
     "data": {
      "image/png": "[encoded data removed]",
      "text/plain": [
       "<Figure size 1080x576 with 1 Axes>"
      ]
     },
     "metadata": {},
     "output_type": "display_data"
    }
   ],
   "source": [
    "events = {}\n",
    "if applying_rolling_std:\n",
    "    events = {'stationary standard_deviation': round(std, 3),'anomalies_dict': collections.OrderedDict([(index, y_i)\n",
    "                for index, y_i, avg_i, rs_i in zip(count(),Y, avg_list, rolling_std)\n",
    "                  if (y_i > avg_i + (sigma * rs_i)) | (y_i < avg_i - (sigma * rs_i))])}\n",
    "else:\n",
    "    events = {'standard_deviation': round(std, 3),'anomalies_dict': collections.OrderedDict([(index, y_i) for index, y_i, avg_i in zip(count(), Y, avg)\n",
    "              if (y_i > avg_i + (sigma*std)) | (y_i < avg_i - (sigma*std))])}\n",
    "\n",
    "\n",
    "x_anomaly = np.fromiter(events['anomalies_dict'].keys(), dtype=int, count=len(events['anomalies_dict']))\n",
    "y_anomaly = np.fromiter(events['anomalies_dict'].values(), dtype=float,count=len(events['anomalies_dict']))\n",
    "plt.figure(figsize=(15, 8))\n",
    "plt.plot(x, moving_average, color='green')\n",
    "plt.plot(x, Y, \"k.\")\n",
    "plt.xlabel(text_xlabel)\n",
    "plt.ylabel(text_ylabel)\n",
    "plt.plot(x_anomaly, y_anomaly, \"r*\", markersize=12)\n",
    "\n",
    "# add grid and lines and enable the plot\n",
    "plt.grid(True)12\n",
    "plt.show()"
   ]
  },
  {
   "cell_type": "code",
   "execution_count": 27,
   "metadata": {
    "scrolled": true
   },
   "outputs": [
    {
     "name": "stdout",
     "output_type": "stream",
     "text": [
      "Information abfor i in out the anomalies model:{'standard_deviation': 4.859, 'anomalies_dict': OrderedDict([(4, 54), (8, 13), (16, 29), (23, 13), (45, 14), (64, 24), (70, 25)])}\n"
     ]
    }
   ],
   "source": [
    "# Display the anomaly dict\n",
    "print(\"Information abfor i in out the anomalies model:{}\".format(events))"
   ]
  },
  {
   "cell_type": "markdown",
   "metadata": {},
   "source": [
    "# !!! Outlier Detected Successfully !!! #"
   ]
  },
  {
   "cell_type": "code",
   "execution_count": 28,
   "metadata": {},
   "outputs": [
    {
     "name": "stdout",
     "output_type": "stream",
     "text": [
      "<class 'pandas.core.frame.DataFrame'>\n",
      "RangeIndex: 84 entries, 0 to 83\n",
      "Data columns (total 2 columns):\n",
      "Time     84 non-null object\n",
      "Water    84 non-null int64\n",
      "dtypes: int64(1), object(1)\n",
      "memory usage: 1.4+ KB\n"
     ]
    }
   ],
   "source": [
    "data.info()"
   ]
  },
  {
   "cell_type": "code",
   "execution_count": 29,
   "metadata": {},
   "outputs": [
    {
     "data": {
      "text/html": [
       "<div>\n",
       "<style scoped>\n",
       "    .dataframe tbody tr th:only-of-type {\n",
       "        vertical-align: middle;\n",
       "    }\n",
       "\n",
       "    .dataframe tbody tr th {\n",
       "        vertical-align: top;\n",
       "    }\n",
       "\n",
       "    .dataframe thead th {\n",
       "        text-align: right;\n",
       "    }\n",
       "</style>\n",
       "<table border=\"1\" class=\"dataframe\">\n",
       "  <thead>\n",
       "    <tr style=\"text-align: right;\">\n",
       "      <th></th>\n",
       "      <th>Water</th>\n",
       "    </tr>\n",
       "  </thead>\n",
       "  <tbody>\n",
       "    <tr>\n",
       "      <th>count</th>\n",
       "      <td>84.000000</td>\n",
       "    </tr>\n",
       "    <tr>\n",
       "      <th>mean</th>\n",
       "      <td>18.166667</td>\n",
       "    </tr>\n",
       "    <tr>\n",
       "      <th>std</th>\n",
       "      <td>5.164367</td>\n",
       "    </tr>\n",
       "    <tr>\n",
       "      <th>min</th>\n",
       "      <td>12.000000</td>\n",
       "    </tr>\n",
       "    <tr>\n",
       "      <th>25%</th>\n",
       "      <td>15.000000</td>\n",
       "    </tr>\n",
       "    <tr>\n",
       "      <th>50%</th>\n",
       "      <td>17.000000</td>\n",
       "    </tr>\n",
       "    <tr>\n",
       "      <th>75%</th>\n",
       "      <td>20.000000</td>\n",
       "    </tr>\n",
       "    <tr>\n",
       "      <th>max</th>\n",
       "      <td>54.000000</td>\n",
       "    </tr>\n",
       "  </tbody>\n",
       "</table>\n",
       "</div>"
      ],
      "text/plain": [
       "           Water\n",
       "count  84.000000\n",
       "mean   18.166667\n",
       "std     5.164367\n",
       "min    12.000000\n",
       "25%    15.000000\n",
       "50%    17.000000\n",
       "75%    20.000000\n",
       "max    54.000000"
      ]
     },
     "execution_count": 29,
     "metadata": {},
     "output_type": "execute_result"
    }
   ],
   "source": [
    "data.describe()"
   ]
  },
  {
   "cell_type": "code",
   "execution_count": 30,
   "metadata": {},
   "outputs": [
    {
     "data": {
      "text/html": [
       "<div>\n",
       "<style scoped>\n",
       "    .dataframe tbody tr th:only-of-type {\n",
       "        vertical-align: middle;\n",
       "    }\n",
       "\n",
       "    .dataframe tbody tr th {\n",
       "        vertical-align: top;\n",
       "    }\n",
       "\n",
       "    .dataframe thead th {\n",
       "        text-align: right;\n",
       "    }\n",
       "</style>\n",
       "<table border=\"1\" class=\"dataframe\">\n",
       "  <thead>\n",
       "    <tr style=\"text-align: right;\">\n",
       "      <th></th>\n",
       "      <th>Time</th>\n",
       "      <th>Water</th>\n",
       "    </tr>\n",
       "  </thead>\n",
       "  <tbody>\n",
       "    <tr>\n",
       "      <th>0</th>\n",
       "      <td>2009-01</td>\n",
       "      <td>16</td>\n",
       "    </tr>\n",
       "    <tr>\n",
       "      <th>1</th>\n",
       "      <td>2009-02</td>\n",
       "      <td>15</td>\n",
       "    </tr>\n",
       "    <tr>\n",
       "      <th>2</th>\n",
       "      <td>2009-03</td>\n",
       "      <td>15</td>\n",
       "    </tr>\n",
       "    <tr>\n",
       "      <th>3</th>\n",
       "      <td>2009-04</td>\n",
       "      <td>14</td>\n",
       "    </tr>\n",
       "    <tr>\n",
       "      <th>4</th>\n",
       "      <td>2009-05</td>\n",
       "      <td>54</td>\n",
       "    </tr>\n",
       "  </tbody>\n",
       "</table>\n",
       "</div>"
      ],
      "text/plain": [
       "      Time  Water\n",
       "0  2009-01     16\n",
       "1  2009-02     15\n",
       "2  2009-03     15\n",
       "3  2009-04     14\n",
       "4  2009-05     54"
      ]
     },
     "execution_count": 30,
     "metadata": {},
     "output_type": "execute_result"
    }
   ],
   "source": [
    "data.head()"
   ]
  },
  {
   "cell_type": "code",
   "execution_count": 31,
   "metadata": {},
   "outputs": [
    {
     "data": {
      "text/plain": [
       "Time     object\n",
       "Water     int64\n",
       "dtype: object"
      ]
     },
     "execution_count": 31,
     "metadata": {},
     "output_type": "execute_result"
    }
   ],
   "source": [
    "data.dtypes"
   ]
  },
  {
   "cell_type": "code",
   "execution_count": 32,
   "metadata": {},
   "outputs": [
    {
     "data": {
      "text/plain": [
       "array([16, 15, 14, 54, 25, 22, 23, 13, 18, 12, 29, 17, 19, 21, 20, 24],\n",
       "      dtype=int64)"
      ]
     },
     "execution_count": 32,
     "metadata": {},
     "output_type": "execute_result"
    }
   ],
   "source": [
    "data['Water'].unique()"
   ]
  },
  {
   "cell_type": "code",
   "execution_count": 33,
   "metadata": {},
   "outputs": [],
   "source": [
    "import statsmodels.api as sm\n",
    "import seaborn as sns"
   ]
  },
  {
   "cell_type": "code",
   "execution_count": 34,
   "metadata": {},
   "outputs": [
    {
     "data": {
      "image/png": "[encoded data removed]",
      "text/plain": [
       "<Figure size 432x288 with 1 Axes>"
      ]
     },
     "metadata": {},
     "output_type": "display_data"
    }
   ],
   "source": [
    "data.plot.line(x = 'Time', y = 'Water')\n",
    "plt.show()"
   ]
  }
 ],
 "metadata": {
  "kernelspec": {
   "display_name": "Python 3",
   "language": "python",
   "name": "python3"
  },
  "language_info": {
   "codemirror_mode": {
    "name": "ipython",
    "version": 3
   },
   "file_extension": ".py",
   "mimetype": "text/x-python",
   "name": "python",
   "nbconvert_exporter": "python",
   "pygments_lexer": "ipython3",
   "version": "3.6.4"
  }
 },
 "nbformat": 4,
 "nbformat_minor": 2
}
